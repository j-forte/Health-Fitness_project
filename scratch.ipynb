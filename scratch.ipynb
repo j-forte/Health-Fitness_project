version https://git-lfs.github.com/spec/v1
oid sha256:2cdfb54538782cd60bf70d954dcdaf30ba704b569ff4904f95f7cdbc88482d91
size 5792
